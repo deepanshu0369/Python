{
 "cells": [
  {
   "cell_type": "markdown",
   "id": "c8224073",
   "metadata": {},
   "source": [
    "1. In the below elements which of them are values or an expression? eg:- values can be integer or string and expressions will be mathematical operators.\n",
    "* \n",
    "'hello'\n",
    "-87.8\n",
    "- \n",
    "/ \n",
    "+\t\n",
    "6 \n",
    "\n",
    "2. What is the difference between string and variable?\n",
    "\n",
    "3. Describe three different data types.\n",
    "\n",
    "4. What is an expression made up of? What do all expressions do?\n",
    "5. This assignment statements, like spam = 10. What is the difference between an expression and a statement?\n",
    "6. After running the following code, what does the variable bacon contain?\n",
    "bacon = 22\n",
    "bacon + 1\n",
    "\n",
    "7. What should the values of the following two terms be?\n",
    "'spam' + 'spamspam'\n",
    "'spam' * 3\n",
    "\n",
    "8. Why is eggs a valid variable name while 100 is invalid?\n",
    "9. What three functions can be used to get the integer, floating-point number, or string version of a value?\n",
    "10. Why does this expression cause an error? How can you fix it?\n",
    "'I have eaten ' + 99 + ' burritos.'\n",
    "\n",
    "\n"
   ]
  },
  {
   "cell_type": "markdown",
   "id": "04ce5723",
   "metadata": {},
   "source": [
    "1\n"
   ]
  },
  {
   "cell_type": "markdown",
   "id": "5b30880f",
   "metadata": {},
   "source": [
    "values= 'hello',-87.8,6\n",
    "expression=*,-,/,+"
   ]
  },
  {
   "cell_type": "markdown",
   "id": "2a844540",
   "metadata": {},
   "source": [
    "2 \n",
    "Variable is something that we declare in order to store some value in it, whereas string is something that is written under '' and we string needs some variable in order to store them"
   ]
  },
  {
   "cell_type": "markdown",
   "id": "b7c4ebda",
   "metadata": {},
   "source": [
    "3 datatypes are \n",
    "a) String:These are set of words , characters or symbols  that are stored inside \" \" but we need triple \"\" in order to store string inside a string\n",
    "b)List:List is a set of items stored inside [] and are seperated by commas , list can contain any datatype inside it ex:int,str,list,tuple,dict etc. and list is mutable\n",
    "c)Boolean: Boolean is a data type that represents something in terms of True and False        "
   ]
  },
  {
   "cell_type": "markdown",
   "id": "9ede3dce",
   "metadata": {},
   "source": [
    "4\n",
    "Expression is made up of operators(+,-,/,*) and values(1,3,4,-2,a)\n",
    "Expression helps produce some result after being executed"
   ]
  },
  {
   "cell_type": "markdown",
   "id": "4322b1ab",
   "metadata": {},
   "source": [
    "5\n",
    "assignment statements like spam = 10 is used to assign a value to some variable on the other hand expression is used to evaluate for some result"
   ]
  },
  {
   "cell_type": "markdown",
   "id": "ebed9aa6",
   "metadata": {},
   "source": [
    "6\n",
    "bacon will still contain 22 , but the expression bacon + 1 will give 23 as an output"
   ]
  },
  {
   "cell_type": "markdown",
   "id": "5df785b9",
   "metadata": {},
   "source": [
    "7\n",
    "'spam'+'spamspam' will give \"spamspamspam\"\n",
    "'spam'*3 will also give \"spamspamspam\" as an output"
   ]
  },
  {
   "cell_type": "markdown",
   "id": "155d08f2",
   "metadata": {},
   "source": [
    "8\n",
    "eggs is a valid variable name because it doesnt contain any special character \n",
    "whereas 1 can not be used as a variable because it is a constant and no varibale is allowed to have any special character other than _"
   ]
  },
  {
   "cell_type": "markdown",
   "id": "f5af497e",
   "metadata": {},
   "source": [
    "9\n",
    "to get integer we use int() function , to get string we use str() function and to get floating point we use float() function"
   ]
  },
  {
   "cell_type": "markdown",
   "id": "fcf6de95",
   "metadata": {},
   "source": [
    "10)\n",
    "This expression cause an error because it is trying to add 2 different data types i.e string and int \n",
    "It can be fixed if we make 99 a string variable\n",
    "ex - 'I have eaten ' + '99' + ' burritos.'"
   ]
  },
  {
   "cell_type": "code",
   "execution_count": null,
   "id": "e0257b3b",
   "metadata": {},
   "outputs": [],
   "source": []
  }
 ],
 "metadata": {
  "kernelspec": {
   "display_name": "Python 3 (ipykernel)",
   "language": "python",
   "name": "python3"
  },
  "language_info": {
   "codemirror_mode": {
    "name": "ipython",
    "version": 3
   },
   "file_extension": ".py",
   "mimetype": "text/x-python",
   "name": "python",
   "nbconvert_exporter": "python",
   "pygments_lexer": "ipython3",
   "version": "3.9.7"
  }
 },
 "nbformat": 4,
 "nbformat_minor": 5
}
